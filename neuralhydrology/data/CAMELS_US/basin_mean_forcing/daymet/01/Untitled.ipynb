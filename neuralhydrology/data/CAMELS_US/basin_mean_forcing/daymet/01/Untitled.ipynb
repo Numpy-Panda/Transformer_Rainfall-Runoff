{
 "cells": [
  {
   "cell_type": "code",
   "execution_count": 3,
   "id": "2da17d56",
   "metadata": {},
   "outputs": [],
   "source": [
    "import numpy as np\n",
    "import os"
   ]
  },
  {
   "cell_type": "code",
   "execution_count": 4,
   "id": "61e1c02a",
   "metadata": {},
   "outputs": [],
   "source": [
    "file_name = os.listdir('.')"
   ]
  },
  {
   "cell_type": "code",
   "execution_count": 7,
   "id": "8b200d6a",
   "metadata": {},
   "outputs": [
    {
     "name": "stdout",
     "output_type": "stream",
     "text": [
      "01162500\n",
      "01052500\n",
      "01181000\n",
      "01139800\n",
      "01121000\n",
      "Untitled.ipynb\n",
      "01139000\n",
      "01195100\n",
      "01137500\n",
      "01022500\n",
      "01170100\n",
      "01078000\n",
      "01055000\n",
      "01187300\n",
      "01123000\n",
      "04296000\n",
      "01073000\n",
      "01142500\n",
      "01047000\n",
      "01169000\n",
      "01150900\n",
      "01030500\n",
      "01144000\n",
      "01134500\n",
      "01118300\n",
      ".ipynb\n",
      "01013500\n",
      "01057000\n",
      "01054200\n",
      "01031500\n"
     ]
    }
   ],
   "source": [
    "for i in file_name:\n",
    "    print(i.split('_')[0])"
   ]
  },
  {
   "cell_type": "code",
   "execution_count": null,
   "id": "31b2f982",
   "metadata": {},
   "outputs": [],
   "source": []
  }
 ],
 "metadata": {
  "kernelspec": {
   "display_name": "Python 3 (ipykernel)",
   "language": "python",
   "name": "python3"
  },
  "language_info": {
   "codemirror_mode": {
    "name": "ipython",
    "version": 3
   },
   "file_extension": ".py",
   "mimetype": "text/x-python",
   "name": "python",
   "nbconvert_exporter": "python",
   "pygments_lexer": "ipython3",
   "version": "3.10.5"
  }
 },
 "nbformat": 4,
 "nbformat_minor": 5
}
